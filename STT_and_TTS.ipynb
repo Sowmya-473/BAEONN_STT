{
  "cells": [
    {
      "cell_type": "code",
      "execution_count": 4,
      "metadata": {
        "colab": {
          "base_uri": "https://localhost:8080/"
        },
        "id": "Tpg95HNfWzV-",
        "outputId": "0f47c989-a2c1-4230-a190-6452dbd9a75d"
      },
      "outputs": [
        {
          "name": "stdout",
          "output_type": "stream",
          "text": [
            "Collecting pydub\n",
            "  Downloading pydub-0.25.1-py2.py3-none-any.whl.metadata (1.4 kB)\n",
            "Downloading pydub-0.25.1-py2.py3-none-any.whl (32 kB)\n",
            "Installing collected packages: pydub\n",
            "Successfully installed pydub-0.25.1\n",
            "Reading package lists... Done\n",
            "Building dependency tree... Done\n",
            "Reading state information... Done\n",
            "ffmpeg is already the newest version (7:4.4.2-0ubuntu0.22.04.1).\n",
            "0 upgraded, 0 newly installed, 0 to remove and 34 not upgraded.\n"
          ]
        }
      ],
      "source": [
        "pip install pydub\n",
        "apt-get install ffmpeg"
      ]
    },
    {
      "cell_type": "code",
      "execution_count": 3,
      "metadata": {
        "colab": {
          "base_uri": "https://localhost:8080/"
        },
        "id": "GVI9Y7jmHzF-",
        "outputId": "17f36c92-bfd5-4def-c707-deedc095e18a"
      },
      "outputs": [
        {
          "name": "stdout",
          "output_type": "stream",
          "text": [
            "Collecting sarvamai\n",
            "  Downloading sarvamai-0.1.3-py3-none-any.whl.metadata (4.7 kB)\n",
            "Requirement already satisfied: httpx>=0.21.2 in /usr/local/lib/python3.11/dist-packages (from sarvamai) (0.28.1)\n",
            "Requirement already satisfied: pydantic>=1.9.2 in /usr/local/lib/python3.11/dist-packages (from sarvamai) (2.11.4)\n",
            "Requirement already satisfied: pydantic-core<3.0.0,>=2.18.2 in /usr/local/lib/python3.11/dist-packages (from sarvamai) (2.33.2)\n",
            "Requirement already satisfied: typing_extensions>=4.0.0 in /usr/local/lib/python3.11/dist-packages (from sarvamai) (4.13.2)\n",
            "Requirement already satisfied: anyio in /usr/local/lib/python3.11/dist-packages (from httpx>=0.21.2->sarvamai) (4.9.0)\n",
            "Requirement already satisfied: certifi in /usr/local/lib/python3.11/dist-packages (from httpx>=0.21.2->sarvamai) (2025.4.26)\n",
            "Requirement already satisfied: httpcore==1.* in /usr/local/lib/python3.11/dist-packages (from httpx>=0.21.2->sarvamai) (1.0.9)\n",
            "Requirement already satisfied: idna in /usr/local/lib/python3.11/dist-packages (from httpx>=0.21.2->sarvamai) (3.10)\n",
            "Requirement already satisfied: h11>=0.16 in /usr/local/lib/python3.11/dist-packages (from httpcore==1.*->httpx>=0.21.2->sarvamai) (0.16.0)\n",
            "Requirement already satisfied: annotated-types>=0.6.0 in /usr/local/lib/python3.11/dist-packages (from pydantic>=1.9.2->sarvamai) (0.7.0)\n",
            "Requirement already satisfied: typing-inspection>=0.4.0 in /usr/local/lib/python3.11/dist-packages (from pydantic>=1.9.2->sarvamai) (0.4.0)\n",
            "Requirement already satisfied: sniffio>=1.1 in /usr/local/lib/python3.11/dist-packages (from anyio->httpx>=0.21.2->sarvamai) (1.3.1)\n",
            "Downloading sarvamai-0.1.3-py3-none-any.whl (63 kB)\n",
            "\u001b[?25l   \u001b[90m━━━━━━━━━━━━━━━━━━━━━━━━━━━━━━━━━━━━━━━━\u001b[0m \u001b[32m0.0/63.1 kB\u001b[0m \u001b[31m?\u001b[0m eta \u001b[36m-:--:--\u001b[0m\r\u001b[2K   \u001b[90m━━━━━━━━━━━━━━━━━━━━━━━━━━━━━━━━━━━━━━━━\u001b[0m \u001b[32m63.1/63.1 kB\u001b[0m \u001b[31m2.0 MB/s\u001b[0m eta \u001b[36m0:00:00\u001b[0m\n",
            "\u001b[?25hInstalling collected packages: sarvamai\n",
            "Successfully installed sarvamai-0.1.3\n"
          ]
        }
      ],
      "source": [
        "pip install sarvamai"
      ]
    },
    {
      "cell_type": "markdown",
      "metadata": {
        "id": "eOYJGQb7TH1k"
      },
      "source": [
        "Convert file format to .wav file"
      ]
    },
    {
      "cell_type": "code",
      "execution_count": 21,
      "metadata": {
        "colab": {
          "base_uri": "https://localhost:8080/"
        },
        "id": "kqoF8T2IYT73",
        "outputId": "e966dbf4-c754-46e7-cde4-5d3bef2e5758"
      },
      "outputs": [
        {
          "name": "stdout",
          "output_type": "stream",
          "text": [
            "Enter the path to the audio file: /content/audio1.ogg\n",
            "Enter output WAV filename (or press Enter to use default): input1.wav\n",
            "Audio successfully converted to WAV: input1.wav\n"
          ]
        }
      ],
      "source": [
        "from pydub import AudioSegment\n",
        "import os\n",
        "\n",
        "def convert_audio_to_wav(input_path, output_path=None):\n",
        "    \"\"\"Convert any supported audio file to WAV format.\"\"\"\n",
        "    input_ext = os.path.splitext(input_path)[1][1:].lower()\n",
        "\n",
        "    output_path = output_path or os.path.splitext(input_path)[0] + \".wav\"\n",
        "\n",
        "    try:\n",
        "        audio = AudioSegment.from_file(input_path, format=input_ext)\n",
        "    except Exception as e:\n",
        "        raise RuntimeError(f\"Failed to read input audio. Make sure ffmpeg is installed and the format is supported. Details: {e}\")\n",
        "\n",
        "    try:\n",
        "        audio.export(output_path, format=\"wav\")\n",
        "    except Exception as e:\n",
        "        raise RuntimeError(f\"Failed to export WAV file. Details: {e}\")\n",
        "\n",
        "    return output_path\n",
        "\n",
        "def main():\n",
        "    input_path = input(\"Enter the path to the audio file: \").strip()\n",
        "    if not os.path.isfile(input_path):\n",
        "        print(\"File not found. Please check the path.\")\n",
        "        return\n",
        "\n",
        "    output_name = input(\"Enter output WAV filename (or press Enter to use default): \").strip()\n",
        "    output_path = output_name if output_name else None\n",
        "\n",
        "    try:\n",
        "        result = convert_audio_to_wav(input_path, output_path)\n",
        "        print(f\"Audio successfully converted to WAV: {result}\")\n",
        "    except Exception as e:\n",
        "        print(f\"Conversion failed: {e}\")\n",
        "\n",
        "if __name__ == \"__main__\":\n",
        "    main()\n"
      ]
    },
    {
      "cell_type": "markdown",
      "metadata": {
        "id": "1QGHbD7MTXki"
      },
      "source": [
        "Speech to text translate"
      ]
    },
    {
      "cell_type": "code",
      "execution_count": null,
      "metadata": {
        "colab": {
          "base_uri": "https://localhost:8080/"
        },
        "id": "NpmWk7NVUk4j",
        "outputId": "469979cd-79fc-48a0-8a34-f4b99fe16354"
      },
      "outputs": [
        {
          "name": "stdout",
          "output_type": "stream",
          "text": [
            "Enter the path to the audio file: /content/output.wav\n",
            "\n",
            "Speech Translation Result\n",
            "Source Language Detected: ta-IN\n",
            "Transcription (in source or intermediate language):\n",
            "> Hello, I am a shopping assistant who helps you make purchases easily. If you tell me what products you are looking for, I will immediately provide complete information about them, price comparisons, and recommendations.\n",
            "\n",
            "Request ID: 20250521_96bf60fb-84aa-4eee-8312-1ae5b3ea2ae5\n",
            "Speaker Separation (Diarization): None\n",
            "\n"
          ]
        }
      ],
      "source": [
        "import requests\n",
        "\n",
        "API_KEY = \"enter_api_key\"\n",
        "\n",
        "def translate_speech():\n",
        "    audio_path = input(\"Enter the path to the audio file: \").strip()\n",
        "    source_lang = \"unknown\"\n",
        "    target_lang = \"en-IN\"\n",
        "\n",
        "    url = \"https://api.sarvam.ai/speech-to-text-translate\"\n",
        "    headers = {\n",
        "        \"api-subscription-key\": API_KEY,\n",
        "        \"accept\": \"application/json\"\n",
        "    }\n",
        "\n",
        "    try:\n",
        "        with open(audio_path, \"rb\") as audio_file:\n",
        "            files = {\n",
        "                \"file\": (audio_path, audio_file, \"audio/wav\")\n",
        "            }\n",
        "            data = {\n",
        "                \"task\": \"translate\",\n",
        "                \"language_code\": source_lang,\n",
        "                \"target_language_code\": target_lang,\n",
        "                \"model\": \"saaras:v2\"\n",
        "            }\n",
        "\n",
        "            response = requests.post(url, headers=headers, files=files, data=data)\n",
        "\n",
        "            if response.status_code == 200:\n",
        "                result = response.json()\n",
        "                print(\"\\nSpeech Translation Result\")\n",
        "                print(f\"Source Language Detected: {result.get('language_code', 'Unknown')}\")\n",
        "                print(\"Transcription (in source or intermediate language):\")\n",
        "                print(f\"> {result.get('transcript', 'No transcript available')}\")\n",
        "                print(f\"\\nRequest ID: {result.get('request_id', 'N/A')}\")\n",
        "                diarized = result.get('diarized_transcript')\n",
        "                print(f\"Speaker Separation (Diarization): {'Available' if diarized else 'None'}\\n\")\n",
        "            else:\n",
        "                print(f\"Error {response.status_code}:\")\n",
        "                print(response.text)\n",
        "\n",
        "    except FileNotFoundError:\n",
        "        print(\"File not found. Please check the path and try again.\")\n",
        "    except Exception as e:\n",
        "        print(f\"An error occurred: {str(e)}\")\n",
        "\n",
        "translate_speech()"
      ]
    },
    {
      "cell_type": "markdown",
      "metadata": {
        "id": "XvewtA_pTdqx"
      },
      "source": [
        "Text to Speech"
      ]
    },
    {
      "cell_type": "code",
      "execution_count": null,
      "metadata": {
        "colab": {
          "base_uri": "https://localhost:8080/"
        },
        "id": "yvDMf2jxWXEY",
        "outputId": "75ec05d5-833e-4ea5-8682-a4f2b622c0e4"
      },
      "outputs": [
        {
          "name": "stdout",
          "output_type": "stream",
          "text": [
            "Enter the text you want to convert to speech: வணக்கம்! நான் உங்கள் எளிதாகக் கொள்முதல் செய்ய உதவும் ஷாப்பிங் உதவியாளர். நீங்கள் தேடும் பொருள்கள் எவை என்பதை எனக்குச் சொன்னால், அவற்றைப் பற்றிய முழுமையான தகவல்களையும், விலையிலான ஒப்பீடுகளையும், பரிந்துரைகளையும் உடனடியாக வழங்குகிறேன். உதாரணமாக, நீங்கள் ஒரு புதிய மொபைல் போன் வாங்க விரும்பினால், உங்கள் தேவைகளுக்கு ஏற்ப சிறந்த விருப்பங்களைத் தேர்ந்தெடுத்து உங்களுக்குத் தருகிறேன். மேலும், தள்ளுபடி விவரங்கள், வாடிக்கையாளர் மதிப்பீடுகள், மற்றும் பொருள் கிடைப்பதைப் பற்றிய விவரங்களும் உங்களுக்காகத் தேடி தருகிறேன். இப்போது நீங்கள் நேரத்தைச் சேமித்து, புத்திசாலித்தனமாக வாங்க முடியும். எனது உதவியுடன் உங்கள் ஷாப்பிங் அனுபவம் எளிமையாகவும் சிரமமில்லாததாகவும் இருக்கும்!\n",
            "Language Detected: ta-IN | Script: Taml\n",
            "Audio saved as 'output.wav'\n"
          ]
        }
      ],
      "source": [
        "import requests\n",
        "from sarvamai import SarvamAI\n",
        "from sarvamai.play import save\n",
        "\n",
        "API_KEY = \"enter_api_key\"\n",
        "\n",
        "def detect_language(text):\n",
        "    \"\"\"Detect the language and script of the input text.\"\"\"\n",
        "    url = \"https://api.sarvam.ai/text-lid\"\n",
        "    headers = {\n",
        "        \"api-subscription-key\": API_KEY,\n",
        "        \"Content-Type\": \"application/json\"\n",
        "    }\n",
        "    payload = { \"input\": text }\n",
        "\n",
        "    response = requests.post(url, headers=headers, json=payload)\n",
        "    if response.status_code == 200:\n",
        "        result = response.json()\n",
        "        return result.get(\"language_code\", \"und\"), result.get(\"script_code\", \"unknown\")\n",
        "    else:\n",
        "        raise Exception(f\"Language detection failed: {response.text}\")\n",
        "\n",
        "def convert_text_to_speech(text, language_code, output_file=\"output.wav\", speaker=\"manisha\", model=\"bulbul:v2\"):\n",
        "    \"\"\"Convert the given text to speech and save it as an audio file.\"\"\"\n",
        "    client = SarvamAI(api_subscription_key=API_KEY)\n",
        "    audio = client.text_to_speech.convert(\n",
        "        target_language_code=language_code,\n",
        "        text=text,\n",
        "        model=model,\n",
        "        speaker=speaker\n",
        "    )\n",
        "    save(audio, output_file)\n",
        "    print(f\"Audio saved as '{output_file}'\")\n",
        "\n",
        "def main():\n",
        "    text = input(\"Enter the text you want to convert to speech: \").strip()\n",
        "    if not text:\n",
        "        print(\"No text entered. Exiting.\")\n",
        "        return\n",
        "\n",
        "    try:\n",
        "        language_code, script_code = detect_language(text)\n",
        "        print(f\"Language Detected: {language_code} | Script: {script_code}\")\n",
        "        convert_text_to_speech(text, language_code)\n",
        "    except Exception as e:\n",
        "        print(f\"Error: {e}\")\n",
        "\n",
        "if __name__ == \"__main__\":\n",
        "    main()\n"
      ]
    }
  ],
  "metadata": {
    "colab": {
      "provenance": []
    },
    "kernelspec": {
      "display_name": "Python 3",
      "name": "python3"
    },
    "language_info": {
      "name": "python"
    }
  },
  "nbformat": 4,
  "nbformat_minor": 0
}
